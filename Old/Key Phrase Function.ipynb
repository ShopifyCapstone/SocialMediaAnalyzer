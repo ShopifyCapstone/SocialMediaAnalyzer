{
 "cells": [
  {
   "cell_type": "markdown",
   "metadata": {},
   "source": [
    "# Key Phrase Function"
   ]
  },
  {
   "cell_type": "code",
   "execution_count": 1,
   "metadata": {
    "collapsed": true
   },
   "outputs": [],
   "source": [
    "def get_KeyPhrases(textInput, k = 15, version = 'Summary'):\n",
    "    #version = Summary or version = PMI\n",
    "    import nltk\n",
    "    nltk.download('punkt',quiet='true')\n",
    "    nltk.download(\"averaged_perceptron_tagger\",quiet='true')\n",
    "    nltk.download(\"wordnet\",quiet='true')\n",
    "    nltk.download(\"brown\",quiet='true')\n",
    "    from nltk.data import find\n",
    "    from nltk.tag import PerceptronTagger\n",
    "   \n",
    "\n",
    "    #setting up tagger\n",
    "    #(from http://stackoverflow.com/a/35964709)\n",
    "    PICKLE = \"averaged_perceptron_tagger.pickle\"\n",
    "    AP_MODEL_LOC = 'file:'+str(find('taggers/averaged_perceptron_tagger/'+PICKLE))\n",
    "    tagger = PerceptronTagger(load=False)\n",
    "    tagger.load(AP_MODEL_LOC)\n",
    "    pos_tag = tagger.tag\n",
    "\n",
    "    lemmatizer = nltk.WordNetLemmatizer()\n",
    "    stemmer = nltk.stem.porter.PorterStemmer()\n",
    "    \n",
    "    \n",
    "    # This grammar is described in the paper by S. N. Kim,\n",
    "    # T. Baldwin, and M.-Y. Kan.\n",
    "    # Evaluating n-gram based evaluation metrics for automatic\n",
    "    # keyphrase extraction.\n",
    "    # Technical report, University of Melbourne, Melbourne 2010.\n",
    "    from nltk.corpus import stopwords\n",
    "    stopwords = stopwords.words('english')\n",
    "\n",
    "\n",
    "    def leaves(tree):\n",
    "        \"\"\"Finds NP (nounphrase) leaf nodes of a chunk tree.\"\"\"\n",
    "        for subtree in tree.subtrees(filter = lambda t: t.label()=='NP'):\n",
    "            yield subtree.leaves()\n",
    "\n",
    "    def acceptable_word(word):\n",
    "        \"\"\"Checks conditions for acceptable word: length, stopword.\"\"\"\n",
    "        accepted = bool(2 < len(word) and word.lower() not in stopwords)\n",
    "        return accepted        \n",
    "\n",
    "    def normalise(word):\n",
    "        \"\"\"Normalises words to lowercase and stems and lemmatizes it.\"\"\"\n",
    "        word = word.lower()\n",
    "        word = stemmer.stem(word)\n",
    "        word = lemmatizer.lemmatize(word)\n",
    "        return word\n",
    "\n",
    "    def get_terms(tree):\n",
    "        for leaf in leaves(tree):\n",
    "            #can modify normalise to w.lower() if dont want to normalize word\n",
    "            term = [ normalise(w) for w,t in leaf if acceptable_word(w) ]\n",
    "            yield term\n",
    "        \n",
    "    def get_nounPhrases(textInput, minWordLength = 2):\n",
    "        lemmatizer = nltk.WordNetLemmatizer()\n",
    "        stemmer = nltk.stem.porter.PorterStemmer()\n",
    "\n",
    "        grammar = r\"\"\"\n",
    "\n",
    "        NBAR:\n",
    "            {<NN.*|JJ>*<NN.*>}  # Nouns and Adjectives, terminated with Nouns\n",
    "        \n",
    "        NP:\n",
    "            {<NBAR>}\n",
    "            {<NBAR><IN><NBAR>}  # Above, connected with in/of/etc...\n",
    "                  \"\"\"\n",
    "\n",
    "        chunker = nltk.RegexpParser(grammar)\n",
    "    \n",
    "        toks = nltk.word_tokenize(textInput)\n",
    "        #print(toks)\n",
    "        pos_tag = tagger.tag\n",
    "        postoks = pos_tag(toks)\n",
    "\n",
    "        tree = chunker.parse(postoks)\n",
    "        terms = get_terms(tree)\n",
    "   \n",
    "        nounPhraseList = []\n",
    "        for tid,term in enumerate(terms):\n",
    "            templist = []\n",
    "            for wid, word in enumerate(term):\n",
    "                #print(\"TID: \",tid,\" WID: \",(wid+1), word)\n",
    "                templist.append(word)\n",
    "        \n",
    "            s = \" \"\n",
    "            nounPhraseList.append(s.join(templist))\n",
    "\n",
    "        nounPhraseList = [word for word in nounPhraseList if len(word.split())>=minWordLength]\n",
    "        return nounPhraseList\n",
    "    \n",
    "    import pandas\n",
    "    from collections import Counter\n",
    "    counter = Counter()\n",
    "    for nounPhrase in  get_nounPhrases(textInput):\n",
    "        #print(nounPhrase)\n",
    "        counter.update([nounPhrase])\n",
    "    if version.lower() == 'summary':       \n",
    "        topkNPdf =pandas.DataFrame([[key,value] for key,value in counter.items()],columns=['Term','Frequency'])\n",
    "        #topkNPdf = topkNPdf.reset_index(drop=True)\n",
    "\n",
    "        #if less than max (15), use correct number of key phrases\n",
    "        if topkNPdf.shape[0]<k:\n",
    "            print(\"\\n \\nTop\" ,topkNPdf.shape[0], \"key phrases (minimum phrase length = 2 ): \\n\")\n",
    "        else:\n",
    "            print(\"\\n \\nTop\" ,k, \"key phrases (minimum phrase length = 2): \\n\") \n",
    "\n",
    "\n",
    "        topkNPdf= topkNPdf.sort_values('Frequency', axis=0, ascending=False).head(k)\n",
    "        topkNPdf = topkNPdf.reset_index(drop=True)\n",
    "        return topkNPdf\n",
    "    \n",
    "    elif version.lower() == 'pmi':\n",
    "        return counter.most_common(k);\n",
    "\n",
    "\n",
    "\n",
    "\n",
    "    \n",
    "    \n",
    "    \n",
    "    "
   ]
  },
  {
   "cell_type": "code",
   "execution_count": 2,
   "metadata": {
    "collapsed": false
   },
   "outputs": [
    {
     "name": "stdout",
     "output_type": "stream",
     "text": [
      "\n",
      " \n",
      "Top 3 key phrases (minimum phrase length = 2 ): \n",
      "\n"
     ]
    },
    {
     "data": {
      "text/html": [
       "<div>\n",
       "<table border=\"1\" class=\"dataframe\">\n",
       "  <thead>\n",
       "    <tr style=\"text-align: right;\">\n",
       "      <th></th>\n",
       "      <th>Term</th>\n",
       "      <th>Frequency</th>\n",
       "    </tr>\n",
       "  </thead>\n",
       "  <tbody>\n",
       "    <tr>\n",
       "      <th>0</th>\n",
       "      <td>noun phrase</td>\n",
       "      <td>4</td>\n",
       "    </tr>\n",
       "    <tr>\n",
       "      <th>1</th>\n",
       "      <td>took-tak jason-rizk</td>\n",
       "      <td>1</td>\n",
       "    </tr>\n",
       "    <tr>\n",
       "      <th>2</th>\n",
       "      <td>d.m.x road</td>\n",
       "      <td>1</td>\n",
       "    </tr>\n",
       "  </tbody>\n",
       "</table>\n",
       "</div>"
      ],
      "text/plain": [
       "                  Term  Frequency\n",
       "0          noun phrase          4\n",
       "1  took-tak jason-rizk          1\n",
       "2           d.m.x road          1"
      ]
     },
     "execution_count": 2,
     "metadata": {},
     "output_type": "execute_result"
    }
   ],
   "source": [
    "get_KeyPhrases(\"noun phrase and D.M.X road a bike in the Inner.city and took-take jason-rizk and noun phrase and noun phrases and noun phrasees\", k = 15)"
   ]
  },
  {
   "cell_type": "code",
   "execution_count": 3,
   "metadata": {
    "collapsed": false
   },
   "outputs": [
    {
     "data": {
      "text/plain": [
       "[('noun phrase', 4)]"
      ]
     },
     "execution_count": 3,
     "metadata": {},
     "output_type": "execute_result"
    }
   ],
   "source": [
    "get_KeyPhrases(\"noun phrase and D.M.X road a bike in the Inner.city and took-take jason-rizk and noun phrase and noun phrases and noun phrasees\", k = 1, version = 'Pmi')"
   ]
  }
 ],
 "metadata": {
  "anaconda-cloud": {},
  "kernelspec": {
   "display_name": "Python [conda root]",
   "language": "python",
   "name": "conda-root-py"
  },
  "language_info": {
   "codemirror_mode": {
    "name": "ipython",
    "version": 3
   },
   "file_extension": ".py",
   "mimetype": "text/x-python",
   "name": "python",
   "nbconvert_exporter": "python",
   "pygments_lexer": "ipython3",
   "version": "3.5.2"
  }
 },
 "nbformat": 4,
 "nbformat_minor": 1
}
