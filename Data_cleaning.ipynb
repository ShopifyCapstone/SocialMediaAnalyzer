{
 "cells": [
  {
   "cell_type": "markdown",
   "metadata": {},
   "source": [
    "# !!! do NOT run all !!!"
   ]
  },
  {
   "cell_type": "markdown",
   "metadata": {},
   "source": [
    "# Shopify Capstone: Going from raw data in bz2 format to clean data"
   ]
  },
  {
   "cell_type": "code",
   "execution_count": 1,
   "metadata": {
    "collapsed": false
   },
   "outputs": [],
   "source": [
    "# import all necessary modules and submodules\n",
    "import bz2\n",
    "import datetime\n",
    "import sys\n",
    "import numpy\n",
    "import json\n",
    "import re\n",
    "from datetime import timezone\n",
    "import pandas"
   ]
  },
  {
   "cell_type": "code",
   "execution_count": 2,
   "metadata": {
    "collapsed": false,
    "scrolled": true
   },
   "outputs": [],
   "source": [
    "# define filenames ranges\n",
    "periods = ['2015-11','2015-12','2016-01','2016-02','2016-03','2016-04',\n",
    "           '2016-05','2016-06','2016-07','2016-08','2016-09','2016-10']\n",
    "namesRS = []\n",
    "namesRC = []\n",
    "for period in periods:\n",
    "    RS_bz2 = 'data/raw/RS_'+period+'.bz2'\n",
    "    RS_json = 'data/RS_'+period+'.json'\n",
    "    RC_bz2 = 'data/raw/RC_'+period+'.bz2'\n",
    "    RC_json = 'data/RC_'+period+'.json'\n",
    "    namesRS.append([RS_json,RS_bz2])\n",
    "    namesRC.append([RC_json,RC_bz2])\n",
    "fileNames = namesRC + namesRS\n",
    "filesAll = numpy.array(fileNames)\n",
    "filesRC = filesAll[0:12,0]\n",
    "filesRS = filesAll[12:24,0]\n",
    "filesJSON = filesAll[:,0]"
   ]
  },
  {
   "cell_type": "code",
   "execution_count": 8,
   "metadata": {
    "collapsed": false
   },
   "outputs": [
    {
     "name": "stdout",
     "output_type": "stream",
     "text": [
      "data/raw/RC_2015-11.bz2\n",
      "data/raw/RC_2015-12.bz2\n",
      "data/raw/RC_2016-01.bz2\n",
      "data/raw/RC_2016-02.bz2\n",
      "data/raw/RC_2016-03.bz2\n",
      "data/raw/RC_2016-04.bz2\n",
      "data/raw/RC_2016-05.bz2\n",
      "data/raw/RC_2016-06.bz2\n",
      "data/raw/RC_2016-07.bz2\n",
      "data/raw/RC_2016-08.bz2\n",
      "data/raw/RC_2016-09.bz2\n",
      "data/raw/RC_2016-10.bz2\n",
      "data/raw/RS_2015-11.bz2\n",
      "data/raw/RS_2015-12.bz2\n",
      "data/raw/RS_2016-01.bz2\n",
      "data/raw/RS_2016-02.bz2\n",
      "data/raw/RS_2016-03.bz2\n",
      "data/raw/RS_2016-04.bz2\n",
      "data/raw/RS_2016-05.bz2\n",
      "data/raw/RS_2016-06.bz2\n",
      "data/raw/RS_2016-07.bz2\n",
      "data/raw/RS_2016-08.bz2\n",
      "data/raw/RS_2016-09.bz2\n",
      "data/raw/RS_2016-10.bz2\n"
     ]
    }
   ],
   "source": [
    "for (file_out,file_in) in filesAll:\n",
    "    start = datetime.datetime.now()\n",
    "    print(file_in)"
   ]
  },
  {
   "cell_type": "markdown",
   "metadata": {
    "collapsed": true
   },
   "source": [
    "### commented out to prevent replacing existing files\n",
    "# search all files for occurrences of the word \"shopify\"\n",
    "for (file_out,file_in) in filesAll:\n",
    "    start = datetime.datetime.now()\n",
    "    print(file_in)\n",
    "    with open(file_out,'w', errors='surrogateescape') as output:\n",
    "        #progress = 0\n",
    "        with bz2.open(file_in, 'rt', errors='surrogateescape') as input_:\n",
    "            for line in input_:\n",
    "                #progress = progress + 1\n",
    "                #if progress > 100:\n",
    "                #    break\n",
    "                #if progress % 500000 == 0:\n",
    "                #    print(progress)\n",
    "                if 'shopify' in line.lower():\n",
    "                    output.write(line)\n",
    "        print(datetime.datetime.now()-start)"
   ]
  },
  {
   "cell_type": "code",
   "execution_count": 19,
   "metadata": {
    "collapsed": false,
    "scrolled": true
   },
   "outputs": [
    {
     "name": "stdout",
     "output_type": "stream",
     "text": [
      "data/RC_2015-11.json\n",
      "data/RC_2015-12.json\n",
      "data/RC_2016-01.json\n",
      "data/RC_2016-02.json\n",
      "data/RC_2016-03.json\n",
      "data/RC_2016-04.json\n",
      "data/RC_2016-05.json\n",
      "data/RC_2016-06.json\n",
      "data/RC_2016-07.json\n",
      "data/RC_2016-08.json\n",
      "data/RC_2016-09.json\n",
      "data/RC_2016-10.json\n"
     ]
    }
   ],
   "source": [
    "# removing links from RC files\n",
    "for file in filesRC:\n",
    "    print(file)\n",
    "    with open(file.replace(\".json\", \"-no_links.json\"),'w',errors='surrogateescape') as output:\n",
    "        with open(file,'rt', errors='surrogateescape') as input_:\n",
    "            for line in input_:\n",
    "                line_json = json.loads(line)\n",
    "                body = line_json[\"body\"]\n",
    "                line_json[\"body\"] = re.sub('\\(?(https?://|www.)[^ ,\\n\"]*',\"---LINK---\", body, flags=re.I)\n",
    "                new_line = json.dumps(line_json)+\"\\n\"\n",
    "                if 'shopify' in new_line.lower():\n",
    "                    output.write(new_line)"
   ]
  },
  {
   "cell_type": "code",
   "execution_count": 20,
   "metadata": {
    "collapsed": false
   },
   "outputs": [
    {
     "name": "stdout",
     "output_type": "stream",
     "text": [
      "data/RS_2015-11.json\n",
      "data/RS_2015-12.json\n",
      "data/RS_2016-01.json\n",
      "data/RS_2016-02.json\n",
      "data/RS_2016-03.json\n",
      "data/RS_2016-04.json\n",
      "data/RS_2016-05.json\n",
      "data/RS_2016-06.json\n",
      "data/RS_2016-07.json\n",
      "data/RS_2016-08.json\n",
      "data/RS_2016-09.json\n",
      "data/RS_2016-10.json\n",
      "exceptions: {\"'subreddit'\"}\n"
     ]
    }
   ],
   "source": [
    "# keep only links with \"shopify\" in author, author_flair_text, title, selftext, or subreddit in RS files\n",
    "exceptions = []\n",
    "for file in filesRS:\n",
    "    with open(file.replace(\".json\", \"-four_fields.json\"),'w',errors='surrogateescape') as output:\n",
    "        with open(file,'rt', errors='surrogateescape') as input_:\n",
    "            print(file)\n",
    "            lines = input_.readlines()\n",
    "            for line in lines:\n",
    "                json_line = json.loads(line)\n",
    "                xstr = lambda obj: \"None\" if obj is None else str(obj) + \"  \"\n",
    "                fields = [\"author\", \"selftext\", \"title\", \"subreddit\", \"author_flair_text\"]\n",
    "                subline = \"\"\n",
    "                for field in fields:\n",
    "                    try:\n",
    "                        subline = subline + field + \": \" + xstr(json_line[field])\n",
    "                    except Exception as e:\n",
    "                        exceptions.append(str(e))\n",
    "                if \"shopify\" in subline.lower():\n",
    "                    output.write(line)\n",
    "print(\"exceptions:\", set(exceptions))"
   ]
  },
  {
   "cell_type": "code",
   "execution_count": 3,
   "metadata": {
    "collapsed": false
   },
   "outputs": [
    {
     "data": {
      "text/plain": [
       "['data/RS_2015-11-four_fields.json',\n",
       " 'data/RS_2015-12-four_fields.json',\n",
       " 'data/RS_2016-01-four_fields.json',\n",
       " 'data/RS_2016-02-four_fields.json',\n",
       " 'data/RS_2016-03-four_fields.json',\n",
       " 'data/RS_2016-04-four_fields.json',\n",
       " 'data/RS_2016-05-four_fields.json',\n",
       " 'data/RS_2016-06-four_fields.json',\n",
       " 'data/RS_2016-07-four_fields.json',\n",
       " 'data/RS_2016-08-four_fields.json',\n",
       " 'data/RS_2016-09-four_fields.json',\n",
       " 'data/RS_2016-10-four_fields.json']"
      ]
     },
     "execution_count": 3,
     "metadata": {},
     "output_type": "execute_result"
    }
   ],
   "source": [
    "# defining a list of names for cleanER RS files\n",
    "filesFourFields = []\n",
    "for file in filesRS:\n",
    "    filesFourFields.append(file.replace(\".json\", \"-four_fields.json\"))\n",
    "filesFourFields"
   ]
  },
  {
   "cell_type": "code",
   "execution_count": 22,
   "metadata": {
    "collapsed": false
   },
   "outputs": [
    {
     "name": "stdout",
     "output_type": "stream",
     "text": [
      "data/RS_2015-11-four_fields.json\n",
      "data/RS_2015-12-four_fields.json\n",
      "data/RS_2016-01-four_fields.json\n",
      "data/RS_2016-02-four_fields.json\n",
      "data/RS_2016-03-four_fields.json\n",
      "data/RS_2016-04-four_fields.json\n",
      "data/RS_2016-05-four_fields.json\n",
      "data/RS_2016-06-four_fields.json\n",
      "data/RS_2016-07-four_fields.json\n",
      "data/RS_2016-08-four_fields.json\n",
      "data/RS_2016-09-four_fields.json\n",
      "data/RS_2016-10-four_fields.json\n"
     ]
    }
   ],
   "source": [
    "# removing links from RS files\n",
    "for file in filesFourFields:\n",
    "    with open(file.replace(\"-four_fields.json\", \"-no_links.json\"),'w',errors='surrogateescape') as output:\n",
    "        with open(file,'rt', errors='surrogateescape') as input_:\n",
    "            print(file)\n",
    "            for line in input_:\n",
    "                line_json = json.loads(line)\n",
    "                \n",
    "                title = line_json[\"title\"]\n",
    "                line_json[\"title\"] = re.sub('\\(?(https?://|www.)[^ ,\\n\"]*',\"---LINK---\", title, flags=re.I)\n",
    "                \n",
    "                selftext = line_json[\"selftext\"]\n",
    "                line_json[\"selftext\"] = re.sub('\\(?(https?://|www.)[^ ,\\n\"]*',\"---LINK---\", selftext, flags=re.I)\n",
    "                \n",
    "                author_flair_text = str(line_json[\"author_flair_text\"])\n",
    "                line_json[\"author_flair_text\"] = re.sub('\\(?(https?://|www.)[^ ,\\n\"]*',\"---LINK---\", author_flair_text, flags=re.I)\n",
    "                \n",
    "                try:\n",
    "                    subreddit = line_json[\"subreddit\"]\n",
    "                except Exception as e:\n",
    "                    subreddit = \"\"\n",
    "                \n",
    "                subline = line_json[\"author_flair_text\"] + line_json[\"selftext\"] + line_json[\"title\"] + line_json[\"author\"] + subreddit\n",
    "                if \"shopify\" in subline.lower():\n",
    "                    new_line = json.dumps(line_json)+\"\\n\"\n",
    "                    output.write(new_line)"
   ]
  },
  {
   "cell_type": "code",
   "execution_count": 4,
   "metadata": {
    "collapsed": false,
    "scrolled": true
   },
   "outputs": [
    {
     "data": {
      "text/plain": [
       "['data/RC_2015-11-no_links.json',\n",
       " 'data/RC_2015-12-no_links.json',\n",
       " 'data/RC_2016-01-no_links.json',\n",
       " 'data/RC_2016-02-no_links.json',\n",
       " 'data/RC_2016-03-no_links.json',\n",
       " 'data/RC_2016-04-no_links.json',\n",
       " 'data/RC_2016-05-no_links.json',\n",
       " 'data/RC_2016-06-no_links.json',\n",
       " 'data/RC_2016-07-no_links.json',\n",
       " 'data/RC_2016-08-no_links.json',\n",
       " 'data/RC_2016-09-no_links.json',\n",
       " 'data/RC_2016-10-no_links.json',\n",
       " 'data/RS_2015-11-no_links.json',\n",
       " 'data/RS_2015-12-no_links.json',\n",
       " 'data/RS_2016-01-no_links.json',\n",
       " 'data/RS_2016-02-no_links.json',\n",
       " 'data/RS_2016-03-no_links.json',\n",
       " 'data/RS_2016-04-no_links.json',\n",
       " 'data/RS_2016-05-no_links.json',\n",
       " 'data/RS_2016-06-no_links.json',\n",
       " 'data/RS_2016-07-no_links.json',\n",
       " 'data/RS_2016-08-no_links.json',\n",
       " 'data/RS_2016-09-no_links.json',\n",
       " 'data/RS_2016-10-no_links.json']"
      ]
     },
     "execution_count": 4,
     "metadata": {},
     "output_type": "execute_result"
    }
   ],
   "source": [
    "# defining a list of names for clean files\n",
    "filesNoLink = []\n",
    "for file in filesJSON:\n",
    "    filesNoLink.append(file.replace(\".json\", \"-no_links.json\"))\n",
    "filesNoLink"
   ]
  },
  {
   "cell_type": "code",
   "execution_count": 5,
   "metadata": {
    "collapsed": false,
    "scrolled": true
   },
   "outputs": [
    {
     "name": "stdout",
     "output_type": "stream",
     "text": [
      "data/RC_2015-11-no_links.json\n",
      "data/RC_2015-12-no_links.json\n",
      "data/RC_2016-01-no_links.json\n",
      "data/RC_2016-02-no_links.json\n",
      "data/RC_2016-03-no_links.json\n",
      "data/RC_2016-04-no_links.json\n",
      "data/RC_2016-05-no_links.json\n",
      "data/RC_2016-06-no_links.json\n",
      "data/RC_2016-07-no_links.json\n",
      "data/RC_2016-08-no_links.json\n",
      "data/RC_2016-09-no_links.json\n",
      "data/RC_2016-10-no_links.json\n",
      "data/RS_2015-11-no_links.json\n",
      "data/RS_2015-12-no_links.json\n",
      "data/RS_2016-01-no_links.json\n",
      "data/RS_2016-02-no_links.json\n",
      "data/RS_2016-03-no_links.json\n",
      "data/RS_2016-04-no_links.json\n",
      "data/RS_2016-05-no_links.json\n",
      "data/RS_2016-06-no_links.json\n",
      "data/RS_2016-07-no_links.json\n",
      "data/RS_2016-08-no_links.json\n",
      "data/RS_2016-09-no_links.json\n",
      "data/RS_2016-10-no_links.json\n",
      "unique links: 10350\n"
     ]
    }
   ],
   "source": [
    "# find the set of links\n",
    "links = []\n",
    "for file in filesNoLink[:12]:\n",
    "    print(file)\n",
    "    with open(file,'rt', errors='surrogateescape') as input_:\n",
    "        for line in input_:\n",
    "            links.append(json.loads(line)['link_id'])\n",
    "for file in filesNoLink[12:]:\n",
    "    print(file)\n",
    "    with open(file,'rt', errors='surrogateescape') as input_:\n",
    "        for line in input_:\n",
    "            links.append(json.loads(line)['name'])\n",
    "links = sorted(set(links))\n",
    "print(\"unique links:\", len(links))"
   ]
  },
  {
   "cell_type": "code",
   "execution_count": 6,
   "metadata": {
    "collapsed": false,
    "scrolled": true
   },
   "outputs": [
    {
     "name": "stdout",
     "output_type": "stream",
     "text": [
      "data/raw/RS_2015-11.bz2\n",
      "data/raw/RS_2015-12.bz2\n",
      "data/raw/RS_2016-01.bz2\n",
      "data/raw/RS_2016-02.bz2\n",
      "data/raw/RS_2016-03.bz2\n",
      "data/raw/RS_2016-04.bz2\n",
      "data/raw/RS_2016-05.bz2\n",
      "data/raw/RS_2016-06.bz2\n",
      "data/raw/RS_2016-07.bz2\n",
      "data/raw/RS_2016-08.bz2\n",
      "data/raw/RS_2016-09.bz2\n",
      "data/raw/RS_2016-10.bz2\n"
     ]
    },
    {
     "data": {
      "text/plain": [
       "['t3_3r0zf4',\n",
       " 't3_3uxbvg',\n",
       " 't3_3yyun4',\n",
       " 't3_43lprb',\n",
       " 't3_48ddvx',\n",
       " 't3_4cstvr',\n",
       " 't3_4h6v0n',\n",
       " 't3_4lyd4m',\n",
       " 't3_4qotdt',\n",
       " 't3_4vjrss',\n",
       " 't3_50kc60',\n",
       " 't3_55atoy']"
      ]
     },
     "execution_count": 6,
     "metadata": {},
     "output_type": "execute_result"
    }
   ],
   "source": [
    "# find first links of each month (Reddit)\n",
    "first_links = []\n",
    "for file in filesAll[12:24,1]:\n",
    "    print(file)\n",
    "    progress = 0\n",
    "    with bz2.open(file,'rt') as input_:\n",
    "        for line in input_:\n",
    "            progress = progress + 1\n",
    "            if progress > 1:\n",
    "                break\n",
    "            line_json = json.loads(line)\n",
    "            name = line_json[\"name\"]\n",
    "            first_links.append(name)\n",
    "first_links"
   ]
  },
  {
   "cell_type": "code",
   "execution_count": 7,
   "metadata": {
    "collapsed": true
   },
   "outputs": [],
   "source": [
    "integrator = lambda string: int(string.replace(\"t3_\",\"\"),36)"
   ]
  },
  {
   "cell_type": "code",
   "execution_count": 8,
   "metadata": {
    "collapsed": false
   },
   "outputs": [
    {
     "data": {
      "text/plain": [
       "[226794064,\n",
       " 233342044,\n",
       " 240131488,\n",
       " 247916711,\n",
       " 255926157,\n",
       " 263365191,\n",
       " 270738311,\n",
       " 278739958,\n",
       " 286692545,\n",
       " 294855292,\n",
       " 303279768,\n",
       " 311234002]"
      ]
     },
     "execution_count": 8,
     "metadata": {},
     "output_type": "execute_result"
    }
   ],
   "source": [
    "# define borders as the first link of each month\n",
    "borders = []\n",
    "for link in first_links:\n",
    "    borders.append(integrator(link))\n",
    "borders"
   ]
  },
  {
   "cell_type": "code",
   "execution_count": 9,
   "metadata": {
    "collapsed": false
   },
   "outputs": [
    {
     "data": {
      "text/plain": [
       "[817, 1379, 2074, 2861, 3682, 4479, 5313, 6181, 7150, 8190, 9241, 10350]"
      ]
     },
     "execution_count": 9,
     "metadata": {},
     "output_type": "execute_result"
    }
   ],
   "source": [
    "# find indices of first links in each month (our database)\n",
    "links_base10 = []\n",
    "for link in links:\n",
    "    links_base10.append(integrator(link))\n",
    "last_for_month = []\n",
    "j = 0\n",
    "for i in range(0,len(links_base10)-1): \n",
    "    if links_base10[i] > borders[j+1]:\n",
    "        last_for_month.append(i)\n",
    "        if j < len(borders)-1-1:             #another -1 so that we only run through\n",
    "            j = j + 1\n",
    "        else:\n",
    "            break\n",
    "last_for_month.append(len(links_base10))    \n",
    "last_for_month"
   ]
  },
  {
   "cell_type": "code",
   "execution_count": 56,
   "metadata": {
    "collapsed": false
   },
   "outputs": [
    {
     "data": {
      "text/plain": [
       "233366143"
      ]
     },
     "execution_count": 56,
     "metadata": {},
     "output_type": "execute_result"
    }
   ],
   "source": [
    "integrator(links[last_for_month[0]+1])"
   ]
  },
  {
   "cell_type": "markdown",
   "metadata": {},
   "source": [
    "The list above means that:\n",
    "\n",
    "\n",
    "\n",
    "links with indices\n",
    "\n",
    "0-71 - were posted prior to month 1\n",
    "\n",
    "72-817 - were posted in month 1\n",
    "\n",
    "818-1379 - -||- month 2\n",
    "\n",
    "...\n",
    "\n",
    "9242-10350 - -||- month 12"
   ]
  },
  {
   "cell_type": "code",
   "execution_count": 10,
   "metadata": {
    "collapsed": false,
    "scrolled": true
   },
   "outputs": [
    {
     "data": {
      "text/plain": [
       "re.compile(r't3_374967|t3_38ye7o|t3_3bgbra|t3_3bq1ii|t3_3bqwm1|t3_3d2syk|t3_3d68w0|t3_3fq1ny|t3_3gi1j6|t3_3goep1|t3_3gzu63|t3_3h49zn|t3_3h5lko|t3_3hgy3u|t3_3iamiw|t3_3id72c|t3_3idgjj|t3_3isfro|t3_3iw2wi|t3_3jbpg8|t3_3jh533|t3_3kth8c|t3_3l6o8j|t3_3lgqyv|t3_3m3l5b|t3_3muv5c|t3_3mxg5d|t3_3n8r3z|t3_3n91a3|t3_3nmdcw|t3_3npd5e|t3_3nq36h|t3_3nvmtp|t3_3o4vn7|t3_3ofarn|t3_3p2cft|t3_3p2ll8|t3_3p9b0v|t3_3pezp1|t3_3pixah|t3_3pj9d5|t3_3pni20|t3_3pnthc|t3_3ppv1z|t3_3pu3l5|t3_3pxdc0|t3_3pxp5f|t3_3q6uwu|t3_3q6w1y|t3_3q75t4|t3_3q8kbu|t3_3qa9ld|t3_3qbtqz|t3_3qc3be|t3_3qcc87|t3_3qcp2y|t3_3qfbkl|t3_3qgplm|t3_3qj7tn|t3_3qkl49|t3_3qme29|t3_3qobx0|t3_3qpeau|t3_3qq4n7|t3_3qrwlq|t3_3qv1jx|t3_3qv3al|t3_3qwc20|t3_3qx74u|t3_3qx7jo|t3_3qxxwv|t3_3r0jxa|t3_3r13ry|t3_3r1sz9|t3_3r27x8|t3_3r2uhg|t3_3r2xjv|t3_3r3ngh|t3_3r3z3w|t3_3r4ciw|t3_3r4fav|t3_3r4wkl|t3_3r4xs1|t3_3r525t|t3_3r6isv|t3_3r6n5w|t3_3r73g7|t3_3r7ffq|t3_3r7fpy|t3_3r7fu0|t3_3r7t9g|t3_3r7u37|t3_3r83my|t3_3r8bhn|t3_3r8ctf|t3_3r8hzo|t3_3r8vfp|t3_3r9ctf|t3_3r9h8u|t3_3r9htl|t3_3r9kze|t3_3r9l4d|t3_3r9niw|t3_3r9pjk|t3_3r9wwd|t3_3ra1se|t3_3ra3n9|t3_3ra8md|t3_3ra8vj|t3_3ralax|t3_3ralfd|t3_3rarzl|t3_3rax0d|t3_3razcl|t3_3rbeao|t3_3rbour|t3_3rbpzo|t3_3rbsbh|t3_3rbvxb|t3_3rc1eq|t3_3rc2yc|t3_3rc7ph|t3_3rcc7x|t3_3rcodu|t3_3rcs2e|t3_3rcvv7|t3_3rd41c|t3_3rd9qv|t3_3rdid8|t3_3re2bv|t3_3re80e|t3_3re8f8|t3_3rebao|t3_3rf1jk|t3_3rf59m|t3_3rfmxv|t3_3rfnjl|t3_3rftfg|t3_3rg8cl|t3_3rgn3o|t3_3rguz4|t3_3rh2ty|t3_3rhc49|t3_3rhjvo|t3_3rhylz|t3_3ri13v|t3_3ri32o|t3_3ri9rq|t3_3ril50|t3_3riruf|t3_3ris9n|t3_3riu3c|t3_3rj2sw|t3_3rjf7b|t3_3rjr0t|t3_3rjsw9|t3_3rjt4o|t3_3rjybi|t3_3rka5g|t3_3rke1i|t3_3rkj1x|t3_3rkj8g|t3_3rklp2|t3_3rkpbt|t3_3rksqb|t3_3rkzlu|t3_3rl3i5|t3_3rlbiw|t3_3rlhxk|t3_3rlic4|t3_3rlpxd|t3_3rlrjr|t3_3rlul5|t3_3rlup3|t3_3rlurd|t3_3rlz3r|t3_3rm0v2|t3_3rm12l|t3_3rmkp2|t3_3rmn62|t3_3rmpt8|t3_3rmsrj|t3_3rmvtp|t3_3rmxl2|t3_3rnc4m|t3_3rnckd|t3_3rncq9|t3_3rnsmv|t3_3rnvqi|t3_3rnx0i|t3_3rnxyw|t3_3rnyef|t3_3rnzfq|t3_3roo14|t3_3rophp|t3_3ropky|t3_3rp3ww|t3_3rpmi0|t3_3rpmp9|t3_3rpqbr|t3_3rprc5|t3_3rpuie|t3_3rqjmv|t3_3rqo7w|t3_3rqpl1|t3_3rqr5p|t3_3rqrze|t3_3rquvv|t3_3rrgwb|t3_3rriui|t3_3rrtaa|t3_3rry8r|t3_3rs0ke|t3_3rs7os|t3_3rsawi|t3_3rsdx2|t3_3rskq8|t3_3rskqs|t3_3rssd3|t3_3rsvji|t3_3rswc4|t3_3rsyra|t3_3rt6hh|t3_3rt6qx|t3_3rtbf3|t3_3rtjmd|t3_3rtnxw|t3_3rtoxm|t3_3rtqjg|t3_3rtspc|t3_3rtuy0|t3_3rtyhg|t3_3ru52o|t3_3ru8zl|t3_3rua04|t3_3ruodd|t3_3ruoxi|t3_3rwb9n|t3_3rwcxr|t3_3rwdmp|t3_3rwjza|t3_3rwuvt|t3_3rwved|t3_3rwzgr|t3_3rx0js|t3_3rx4op|t3_3rxaps|t3_3rxdd2|t3_3rxfe1|t3_3rxq95|t3_3rxv52|t3_3rxw30|t3_3rxzki|t3_3ry5ca|t3_3ry6or|t3_3ry7a8|t3_3rz0bs|t3_3rz1gn|t3_3rz51s|t3_3rze1b|t3_3s00rn|t3_3s0lnt|t3_3s1jhk|t3_3s2a0n|t3_3s2gt5|t3_3s2ked|t3_3s2qla|t3_3s2vlv|t3_3s37z8|t3_3s3g5c|t3_3s3q8p|t3_3s4066|t3_3s4c9a|t3_3s4njc|t3_3s4o1t|t3_3s4s2g|t3_3s4tqy|t3_3s4w4d|t3_3s5587|t3_3s56h2|t3_3s5mwi|t3_3s5oxj|t3_3s60bq|t3_3s64ux|t3_3s6j48|t3_3s6ktj|t3_3s71ar|t3_3s7cfh|t3_3s7nyd|t3_3s7xbo|t3_3s88b0|t3_3s8ank|t3_3s939h|t3_3s982v|t3_3s98wb|t3_3s9izd|t3_3s9k62|t3_3s9kzw|t3_3s9qkb|t3_3s9rdx|t3_3sa6h0|t3_3sa9hh|t3_3sadgr|t3_3sae3l|t3_3say41|t3_3say9j|t3_3sazyk|t3_3sb1o9|t3_3sb299|t3_3sbf0n|t3_3sbfso|t3_3sbom3|t3_3sbqmk|t3_3sc048|t3_3scoyr|t3_3sd7cp|t3_3sd7x0|t3_3sda9a|t3_3seghf|t3_3semnl|t3_3sen8a|t3_3senk0|t3_3sep1c|t3_3sewqm|t3_3sf3ds|t3_3sfdbt|t3_3sffsj|t3_3sfgnc|t3_3sfr7i|t3_3sfsdz|t3_3sfskd|t3_3sfw5c|t3_3sfx12|t3_3sfxhx|t3_3sg2aa|t3_3sg515|t3_3sg9a1|t3_3sgc6y|t3_3sgf28|t3_3sgs0a|t3_3sgulx|t3_3shymc|t3_3si4us|t3_3si6zv|t3_3siapw|t3_3sibvj|t3_3sid8c|t3_3sifjl|t3_3sina2|t3_3siso6|t3_3sivuf|t3_3sizyy|t3_3sj02t|t3_3sj0z6|t3_3sj1lk|t3_3sj3id|t3_3sjavx|t3_3sjj4n|t3_3sjjvh|t3_3sjkmc|t3_3sjnoy|t3_3sjr2y|t3_3sjsa7|t3_3sk0kb|t3_3sk2d8|t3_3sk2yi|t3_3sk51t|t3_3sk8rg|t3_3sk92m|t3_3skcp7|t3_3skdoj|t3_3skon8|t3_3skpuz|t3_3skxj3|t3_3sl1d7|t3_3sl30w|t3_3sl6ih|t3_3sl88n|t3_3sl8kl|t3_3slf6h|t3_3slfju|t3_3slgyh|t3_3sliyf|t3_3slnrj|t3_3slsmy|t3_3slyzn|t3_3sm0qt|t3_3smeh3|t3_3smqyx|t3_3smsqp|t3_3smzgy|t3_3sn4h2|t3_3sndxx|t3_3snokd|t3_3so0t3|t3_3so2e2|t3_3so65k|t3_3so6lb|t3_3sobol|t3_3sod0p|t3_3sofsq|t3_3sojxr|t3_3sor98|t3_3sovda|t3_3sp3oy|t3_3spcjw|t3_3spd1r|t3_3spg38|t3_3spgk3|t3_3sphr6|t3_3sppqq|t3_3sps5y|t3_3sr0ji|t3_3sre68|t3_3srrzg|t3_3srs6k|t3_3stcgc|t3_3stfrb|t3_3stjzm|t3_3stnll|t3_3stuaj|t3_3su9ub|t3_3susml|t3_3suzyo|t3_3sv3tm|t3_3svdpv|t3_3svdui|t3_3svnn5|t3_3svt43|t3_3sw5cl|t3_3sw88j|t3_3sw8ea|t3_3swork|t3_3swsvs|t3_3swxx5|t3_3swzqk|t3_3sx1we|t3_3sxb2y|t3_3sxgh5|t3_3sxit7|t3_3sxj3r|t3_3sy0od|t3_3sy1kn|t3_3syfna|t3_3sykt7|t3_3syxvv|t3_3sz28x|t3_3sz3fw|t3_3szc10|t3_3szh77|t3_3szpxl|t3_3szvin|t3_3szvms|t3_3t0404|t3_3t0ec1|t3_3t0mhr|t3_3t0tpx|t3_3t0wr9|t3_3t12wr|t3_3t1787|t3_3t19un|t3_3t1ao1|t3_3t1c95|t3_3t1owq|t3_3t1szr|t3_3t2ghc|t3_3t2hxl|t3_3t2lpe|t3_3t2nbx|t3_3t2ued|t3_3t3ekj|t3_3t407k|t3_3t47uf|t3_3t48yo|t3_3t4b4p|t3_3t4deg|t3_3t4es6|t3_3t4hbs|t3_3t4i4g|t3_3t4qgv|t3_3t4w2g|t3_3t5a82|t3_3t5o5n|t3_3t5oaj|t3_3t5tpo|t3_3t5ukl|t3_3t5wi8|t3_3t65e1|t3_3t69is|t3_3t6bqq|t3_3t6e80|t3_3t6iea|t3_3t6m0n|t3_3t6t72|t3_3t6tsn|t3_3t6xce|t3_3t73ys|t3_3t7j7g|t3_3t7m44|t3_3t7ngx|t3_3t7q12|t3_3t8707|t3_3t8881|t3_3t89ut|t3_3t8j7p|t3_3t8w3m|t3_3t9bx5|t3_3t9cic|t3_3t9dih|t3_3t9ep6|t3_3t9r4a|t3_3t9vj6|t3_3ta0o7|t3_3ta17m|t3_3ta59t|t3_3taksv|t3_3tariu|t3_3tb39t|t3_3tb4lc|t3_3tb56x|t3_3tb7uc|t3_3tbc74|t3_3tbdne|t3_3tbrrz|t3_3tbv7z|t3_3tbvbb|t3_3tc5t0|t3_3tc9tz|t3_3tcc6u|t3_3tcka7|t3_3tcrhn|t3_3tcwa3|t3_3te0or|t3_3te6in|t3_3te6vi|t3_3tebg4|t3_3texut|t3_3tey10|t3_3teyun|t3_3tez8y|t3_3tf32g|t3_3tf3qp|t3_3tfqa7|t3_3tfvb7|t3_3tfwd3|t3_3tgdrz|t3_3tgr6u|t3_3tguxo|t3_3tgz13|t3_3tgzae|t3_3th3vd|t3_3th59y|t3_3thhe3|t3_3thqlj|t3_3thuez|t3_3tia8v|t3_3tid3h|t3_3tidkj|t3_3tie4j|t3_3tisk4|t3_3tj027|t3_3tj67c|t3_3tjdk6|t3_3tjen9|t3_3tjgh8|t3_3tjieq|t3_3tjloa|t3_3tjryo|t3_3tju4l|t3_3tk3j3|t3_3tk4hy|t3_3tk5it|t3_3tkrn9|t3_3tl3ns|t3_3tl8z6|t3_3tl94x|t3_3tll4c|t3_3tlnk8|t3_3tloqa|t3_3tlu98|t3_3tluw4|t3_3tlxd4|t3_3tm0at|t3_3tm0nd|t3_3tm1qe|t3_3tm5az|t3_3tmm3a|t3_3tmmaw|t3_3tn1zz|t3_3tn2e8|t3_3tn62a|t3_3tna6f|t3_3tng5x|t3_3tnn1r|t3_3tnr5d|t3_3tntsb|t3_3tnzas|t3_3to1kj|t3_3tp08h|t3_3tp2hz|t3_3tp57y|t3_3tpcgw|t3_3tpdvg|t3_3tpgwo|t3_3tps2u|t3_3tpy4w|t3_3tpzaj|t3_3tqe9o|t3_3tqohk|t3_3tqxgq|t3_3tqyug|t3_3tr8dl|t3_3tra64|t3_3trahg|t3_3trmfn|t3_3ts9bd|t3_3tsc9d|t3_3tst8u|t3_3tsws4|t3_3tsxa5|t3_3tsxkg|t3_3tsyt6|t3_3tsz04|t3_3tt1v7|t3_3ttea5|t3_3tth6u|t3_3ttqr0|t3_3ttw2s|t3_3ttzmq|t3_3tu3j0|t3_3turlg|t3_3tuxma|t3_3tuxx6|t3_3tuy2l|t3_3tv1nm|t3_3tv44i|t3_3twn70|t3_3twnzu|t3_3twwna|t3_3tx024|t3_3tx33z|t3_3txopv|t3_3txryk|t3_3txu9b|t3_3txx4e|t3_3ty5jo|t3_3tyeix|t3_3tyg2f|t3_3tys0v|t3_3tysr8|t3_3tz69n|t3_3tz7t8|t3_3tzhry|t3_3tzl2e|t3_3tzqy5|t3_3u0234|t3_3u02kk|t3_3u03ht|t3_3u0igm|t3_3u0rag|t3_3u0v1c|t3_3u0zee|t3_3u11qj|t3_3u1dea|t3_3u1mhu|t3_3u1tx2|t3_3u26yk|t3_3u2b5h|t3_3u2hyl|t3_3u2m9g|t3_3u2ynu|t3_3u38w4|t3_3u3baf|t3_3u3fyo|t3_3u3i2y|t3_3u3oox|t3_3u43as|t3_3u4ka3|t3_3u4o86|t3_3u4zyv|t3_3u54te|t3_3u55bn|t3_3u5mos|t3_3u5p7y|t3_3u76ao|t3_3u7djk|t3_3u7dko|t3_3u7y47|t3_3u8g0v|t3_3u8gc3|t3_3u8hql|t3_3u8zcm|t3_3u92r0|t3_3u95w4|t3_3u9b67|t3_3u9f5t|t3_3u9y6c|t3_3ua1tz|t3_3ua43y|t3_3ua6cc|t3_3ua9hp|t3_3uakyt|t3_3uarvv|t3_3uay1e|t3_3uayvu|t3_3uazij|t3_3ub60a|t3_3ub9tn|t3_3ubo48|t3_3uc2a6|t3_3ucbd9|t3_3ucisd|t3_3uct5g|t3_3uctzl|t3_3udf8a|t3_3udjyj|t3_3udmdf|t3_3udo39|t3_3udoxd|t3_3udth5|t3_3udv1a|t3_3ue604|t3_3ue9a5|t3_3uec8d|t3_3uf1bm|t3_3ufjtf|t3_3ufk6c|t3_3ufkvd|t3_3ufp0d|t3_3ufqlm|t3_3ufr18|t3_3ug4hv|t3_3ug5em|t3_3ug60g|t3_3ug744|t3_3ugd1k|t3_3ugfa8|t3_3ugpqf|t3_3ugqap|t3_3uh924|t3_3uhag5|t3_3uhc13|t3_3uhchz|t3_3uhduk|t3_3uhfon|t3_3uhgad|t3_3uhh0x|t3_3uhnnv|t3_3uhq35|t3_3uhq8t|t3_3uhy7l|t3_3ui0gv|t3_3ui2vm|t3_3ui4v0|t3_3ui7q0|t3_3uiayf|t3_3uiblz|t3_3uicij|t3_3uicmv|t3_3uih9y|t3_3uihq0|t3_3uimwy|t3_3uitrs|t3_3ujdln|t3_3ujj7n|t3_3ujz2w|t3_3uk0tq|t3_3uk3an|t3_3ukogl|t3_3ul324|t3_3uldi3|t3_3ulgrp|t3_3ulq9e|t3_3ulyu0|t3_3um4g3|t3_3umqo9|t3_3umvkc|t3_3umy3y|t3_3umyxn|t3_3uo549|t3_3uo9na|t3_3uobft|t3_3uonjo|t3_3uosks|t3_3uoyu5|t3_3up80p|t3_3upde5|t3_3upnh4|t3_3upw63|t3_3uq6m1|t3_3uqem4|t3_3uquxo|t3_3ur71v|t3_3urk6q|t3_3urxr3|t3_3usr30|t3_3utjrm|t3_3uu1c9|t3_3uu3ne|t3_3uu4yy|t3_3uu68t|t3_3uuji6|t3_3uurd6|t3_3uuxch|t3_3uv1bf|t3_3uv8mf|t3_3uvf3b|t3_3uvjrm|t3_3uvkdb|t3_3uvn4j|t3_3uvp06|t3_3uvpvi|t3_3uw79u|t3_3uwadl|t3_3uwbo2|t3_3uwghw|t3_3uwlyr',\n",
       "re.UNICODE)"
      ]
     },
     "execution_count": 10,
     "metadata": {},
     "output_type": "execute_result"
    }
   ],
   "source": [
    "# compile the list of search strings by month\n",
    "search_strings = []\n",
    "for index in last_for_month:\n",
    "    search_strings.append(re.compile(\"|\".join(links[:index])))\n",
    "search_strings[0]"
   ]
  },
  {
   "cell_type": "code",
   "execution_count": 11,
   "metadata": {
    "collapsed": true
   },
   "outputs": [
    {
     "data": {
      "text/plain": [
       "re.compile(r'55awms|55b45b|55bo2i|55bshi|55c2o6|55c3ek|55c42e|55cen2|55cfri|55chh4|55ct9c|55cthm|55cwvv|55d97o|55df95|55dxvx|55dyqr|55e35p|55e4wo|55eeio|55eimr|55f4a7|55f73x|55fcic|55fjw1|55fl1c|55fpmq|55frsv|55fx2r|55g47w|55h07o|55h789|55h7jw|55hc8a|55hhy2|55hp3n|55iatg|55irx9|55iu6m|55j1wg|55j3s1|55j4ak|55j6o1|55j8b7|55ja3f|55jbtb|55jetg|55jgp2|55jn33|55joxb|55jsxz|55jud1|55k1tu|55koqb|55l1np|55l708|55lg1s|55m0ij|55mfdq|55mgzr|55mm72|55mnzm|55mp2l|55mrvn|55mx9u|55n20x|55n2ny|55n32y|55n3y4|55n4o1|55n65p|55nape|55nf7e|55njm5|55nlf0|55nmo8|55noqr|55npof|55nru2|55nt8i|55nulh|55nv5h|55nw4p|55ok9l|55ov3q|55oyvk|55oz17|55p8py|55pnwr|55ppov|55q996|55qich|55qps9|55qu9s|55qxre|55qykh|55qzwg|55r0qj|55r98z|55rjrm|55rkq4|55rl4d|55rmv2|55rsym|55rvrr|55rwn9|55rzpg|55shu9|55sjcw|55sx25|55t06m|55t2n9|55t4r2|55t6bl|55t9j9|55titw|55tjsj|55tmya|55tpu5|55ts0u|55tu3a|55tx9h|55tyz3|55tz65|55ulwj|55unxj|55urkw|55uv05|55uw9q|55v2g2|55v8ob|55vjpk|55vv4o|55w24g|55wao7|55wo6s|55xeq1|55xv3r|55y79u|55y7jm|55y8sf|55yac9|55ycg9|55yd1k|55ydi3|55yfzq|55ypya|55yqft|55yyua|55zmrh|55zsmh|55zsyi|55zt2g|55ztxi|55ztzh|55zulb|55zvic|560fo8|560hdc|560ish|560pdu|560pu7|560rbh|560u6l|5611n3|5611wn|5613i8|5617jc|561l34|561n1j|561n1l|561tix|561u0z|561w4z|5621m2|5623xj|5629pg|562gih|562ihh|562zs5|563fds|563g93|563hmm|563kui|563my2|563pz0|563zmf|564427|564c7y|564c8q|564gli|564gmv|564ml4|564o26|564w7w|5650f1|5657uc|565bdu|565mq7|565sua|565ygt|566jm9|566mec|566pyx|566qlc|566rej|566u9q|566zpn|567cbs|567hby|567k0f|567lfg|567pvr|567xpj|5681v8|56849g|5686fm|5687e8|568fe9|568ij3|568pl8|568yfw|569087|569bhb|569hzn|569o9x|569r3c|569sdi|56a18d|56a19n|56a5hl|56a6ce|56a6x3|56a6xc|56a7bd|56aaqx|56af49|56afma|56aku0|56asfz|56att6|56ayhq|56ayir|56bw3k|56bwob|56c1wf|56cduz|56cz5c|56d47c|56d61i|56dbjw|56dd0z|56dff9|56e7x6|56evhv|56evpe|56eyo5|56f2tb|56fqa4|56ftlb|56fwll|56fxvr|56fxxr|56fytq|56g1x7|56g80f|56gieo|56gij3|56gjbx|56gkha|56gu6c|56gzom|56hbk4|56hfpf|56hk7h|56homt|56hq67|56hreu|56hv48|56hxkn|56iblj|56imug|56ishm|56izp4|56j7wf|56jowf|56jph6|56jrgg|56jt9m|56kdiw|56knso|56l48n|56l7qk|56lbt8|56llsv|56lwys|56mbz4|56mg53|56mm0l|56ndgf|56ndk0|56ne8w|56nlce|56nn9f|56nopi|56nunx|56nzdq|56o7gy|56obb3|56ol94|56ow9j|56p75u|56pife|56pzy6|56q6ak|56q6u8|56qatg|56qhiv|56qpc5|56qsdk|56quuw|56qw60|56qwob|56r3o9|56rfrs|56rhip|56rkjg|56rkpb|56rner|56rrnw|56rvh3|56s13b|56s4s0|56s66x|56s6lv|56s99o|56stg6|56svq5|56sx19|56szp0|56t1ed|56t8cc|56t8ud|56te2g|56ten6|56tfif|56tjnk|56tm78|56tzic|56u0xo|56ufpi|56uxw0|56va0d|56vnz6|56vu3z|56x7so|56xelx|56xg5j|56xgmm|56xhey|56xja8|56xkdg|56xmqj|56xmvx|56xuup|56xvo1|56xwzg|56y9xp|56ykzd|56yupe|56za2e|56zdtf|56zg73|56zlxz|56zpgz|56zusu|56zw3w|56zwdi|56zybg|57069n|570a4t|570a5b|5712lq|5712n2|5714l5|5714uy|571jgx|571o2a|571omp|572ilj|572kv0|572olb|572ruk|572uft|572umd|572yut|572z6u|573i17|574cmx|574gbk|574gq9|574k3y|574kfs|574khp|574omu|574tjv|5751rv|5754lv|57570p|5759ft|575baz|575d75|575hpj|575qf1|5766ll|576d7z|576dcg|576qmm|576yec|577233|5775jt|5775nt|57762m|577eow|577ih6|577zba|5782y0|578bnu|578cs9|578dud|578etp|578ibs|578l36|579ogo|579tra|579zfx|579zwg|57a1yk|57a4kx|57a7xp|57a9ut|57ak5t|57ap2w|57arqa|57bqkv|57cbct|57ceu9|57cn7l|57cyfo|57cz5r|57d0ql|57dky6|57dm2b|57dmiv|57drbg|57e1dd|57ec66|57egyr|57eh15|57ekq4|57empq|57eq0i|57esa6|57evbc|57eyru|57ezcj|57f0s1|57f1eq|57f39p|57f3c8|57fawx|57ffyo|57fh3e|57fs85|57fup4|57furs|57fwq6|57fy2x|57fz1r|57g1em|57g2pi|57gba0|57gs3d|57gu7y|57gwil|57gx49|57h172|57hnb9|57hzrf|57hzuz|57iafd|57iag6|57ib06|57igh0|57ij9g|57iov3|57iqt8|57itnq|57jfdc|57jffk|57ji1w|57jsyk|57kp42|57krpp|57kuz5|57kvh6|57kw4o|57l2k7|57l71v|57lqsp|57mazv|57mbvq|57mqy4|57myio|57mzow|57n39y|57nf1p|57nx1d|57o3ut|57o58p|57o594|57o608|57o7i1|57o8n4|57o8vm|57oa0t|57oxsu|57p8xg|57po3b|57pzfg|57q616|57q9gn|57qard|57riot|57rq6x|57rz9f|57s112|57s2n2|57s4te|57sfkv|57sixy|57srr1|57strl|57t0pm|57t2lc|57t3xj|57tgsn|57tkn3|57ubow|57uopo|57uorr|57uqi3|57v2qp|57v5e1|57v6z2|57vc84|57vley|57vxc7|57wdwr|57wn1o|57wq47|57x154|57x2zx|57x78u|57x8pi|57xxwo|57y6vb|57y7ab|57y7fp|57y87x|57yl8n|57yo2t|57yqma|57yslf|57yss5|57yycp|57z5em|57z8ce|57zbc8|57znyr|57zuht|57zvtz|58099r|580fk8|580lul|5812kq|581c7o|581f3v|581sa3|581v4a|5828kh|582hqy|582rcl|582u4o|582ud0|582uty|58351w|5838oh|583dlx|583ext|583fmz|583fw5|583nil|583tsz|583yz5|583zfc|5841zy|58446n|5844uo|584glk|584rmi|584si8|584v0g|584z0k|58531l|585jtc|585okh|585qep|585wbl|585xbk|585y50|5861od|586fd6|586il4|586lxu|5877mu|5878wa|587ji2|587raz|587rb8|587wye|587xhu|587zdx|5885ry|588dgg|588fwg|588i70|588re7|58926t|5893hg|589at8|589hck|589nhp|589reu|589tx6|589xkw|58a58n|58a6dz|58abek|58akwf|58ap2y|58axl9|58b1iv|58b8f7|58be71|58bkh7|58bpj3|58bpr7|58c0yu|58caf8|58ccbq|58cclu|58cfny|58cjxw|58cnst|58cvtz|58dtx7|58dx6l|58e11l|58ecjk|58eict|58f804|58f8n5|58ft1j|58fu3d|58fu42|58fvau|58fwhf|58ghl5|58gubk|58gwde|58gwe1|58hcbg|58hcdx|58hcr6|58hpwp|58hzex|58i25d|58i7au|58i7o1|58icfx|58ikbr|58injx|58invf|58iody|58j0yy|58j2hx|58j7hc|58j7xr|58jcz1|58jhm6|58jjvg|58jk4r|58jkh8|58jp5w|58k09r|58kgnp|58ktkx|58l0du|58lal9|58llaj|58lley|58m0oe|58m117|58mf24|58mipb|58mizj|58mj65|58moml|58mpmp|58mrxb|58ms8e|58muob|58mxk8|58mz17|58n1k6|58n1ri|58n1tn|58n2a7|58n2cb|58n3uf|58n42v|58n5qu|58n6hr|58n6sg|58n7hg|58n928|58n9ig|58nc8k|58nd67|58nhly|58ni0v|58nkls|58nlxc|58nn3e|58nnts|58noxi|58o3yd|58o56x|58o5ce|58o5m2|58o7ed|58o7hh|58o80x|58o8hh|58o8uo|58o9k3|58ob51|58och6|58odb5|58oe7x|58of1r|58of38|58of88|58ofca|58ojnx|58omnb|58onhs|58onnv|58onqy|58osye|58oy55|58p0jj|58p0xj|58p35d|58p3wj|58p502|58p7dr|58pcau|58phxu|58pyto|58pz6p|58pzfg|58q2u2|58q9bd|58r7jz|58r7p1|58rhx7|58rtc4|58rvib|58rwl7|58ryd7|58ryk9|58s02a|58s2vq|58sb9y|58siq1|58smzl|58soih|58svxi|58sybi|58tax5|58tcjs|58tlze|58tqf1|58tvta|58u8b7|58uc5e|58uwns|58uwuh|58vei6|58vwea|58w1j7|58wbxn|58wpkb|58wpr2|58x231|58xbbb|58xk2b|58xnk7|58xole|58y4qu|58y60l|58yeb7|58z3ai|58zz3u|590azn|590ncf|590sli|59121u|591q36|591tyn|592sqi|592vnw|592y0s|592yp2|59310n|5938zj|593pvb|593ug5|5940g2|594a2p|594e3e|594em7|594kxv|594pu3|5950ec|5951fp|59531h|595gc2|595gsf|595knm|595w67|595wvc|5968w7|596a5v|596azc|596d95|596h0n|596i11|5979pg|597dt4|597e73|597e7e|597erm|597hud|597n6z|597t1v|59806k|59812x|598axg|598gty|598muv|598n1y|598qbt|598qq4|598uf3|5991p3|5994pe|599en9|599ibt|599ifa|599mrp|599vz5|59af54|59an4u|59an6g|59anp4|59anp9|59b1b5|59b71k|59baw8|59bbc6|59bjue|59bmv3|59c43p|59c7ki|59crkq|59csh0|59cumd|59cvnw|59cxni|59cynk|59d345|59d4k8|59dbew|59djh2|59dqwy|59e3vt|59e5xv|59e7i1|59eeg9|59ektp|59erpq|59ey97|59f0d4|59ftuh|59g4ls|59g633|59gavl|59h1hk|59hcmw|59hdz4|59hkzq|59hvzc|59hxad|59hzie|59i338|59i3y3|59iahr|59imge|59inzs|59itfv|59iusz|59iw1v|59iyc1|59iydm|59j2zg|59j3d6|59j4xr|59j6ru|59j8xh|59jx9u|59k0tu|59k22p|59k455|59k52n|59k5dc|59kckh|59kf1i|59kgdq|59kihf|59kyrx|59l2zq|59lg92|59lld2|59lryv|59lvrl|59lw2y|59ly72|59m0z4|59m13m|59m36u|59m5tx|59m6kn|59m7zi|59m9o0|59mceo|59mewb|59mx5h|59n145|59n8in|59n8kj|59nb0s|59nbdj|59nd0z|59ndun|59nedg|59nrzg|59nvgv|59nz2f|59o3i4|59o615|59o6gy|59o8ce|59or2z|59ouxe|59p9uv|59pbjk|59pddy|59pdpn|59psuv|59ptvv|59pv41|59q2eo|59q5sc|59qbt9|59qd9n|59qdir|59qdy9|59qego|59qh2e|59qn6f|59qqgj|59qs47|59rgf5|59rl0v|59rpti|59rzvl|59s7uk|59spwu|59su25|59svjv|59t2aj|59t84l|59t9jp|59tc0i|59teyq|59tgne|59tm9e|59tzuv|59u4ww|59u4y6|59u6nt|59u8x9|59u9hw|59uakx|59ukoj|59uri1|59uui9|59vsdt|59w44u|59wi0s|59wisf|59wqz8|59x7gg|59x81m|59x8ld|59xdcg|59xn51|59xr7w|59xt7l|59xvx8|59y50p|59y9ka|59yga6|59ym10|59z2q3|59zevg|59zw65|5a0bqc|5a0g1x|5a11t3|5a1b0k|5a1klu|5a1s69|5a3ruc|5a49ku|5a4llw|5a4r8k|5a4rz3|5a5qus|5a5u1g|5a6l89|5a6mmv|5a6p78|5a6sj7|5a7izc|5a7qz9|5a7upz|5a7vch|5a7yu7|5a8112|5a82cl|5a8a0w|5a8d08|5a8nhc|5a8q4w|5a90b6|5a9arw|5a9gt8|5a9y8r|5aa5r4|5aa6om|5aa9pe|5aav3a|5ab725|5abb7o|5abdlm|5ablui|5abmz2|5ac2hh|5acjpo|5acuty|5acwux|5ad1v0|5ad1v9|5ad73m|5addsh|5ade3t|5adidh|5adof2|5adrxi|5adyra|5aeeo4|5aegkr|5afepc|5afhwo|5afi4r',\n",
       "re.UNICODE)"
      ]
     },
     "execution_count": 11,
     "metadata": {},
     "output_type": "execute_result"
    }
   ],
   "source": [
    "search_strings_RS = []\n",
    "first = 0\n",
    "links_RS = []\n",
    "for link in links:\n",
    "    links_RS.append(link.replace(\"t3_\",\"\"))\n",
    "for last in last_for_month: \n",
    "    search_strings_RS.append(re.compile(\"|\".join(links_RS[first:last])))\n",
    "    first = last\n",
    "search_strings_RS[11]"
   ]
  },
  {
   "cell_type": "markdown",
   "metadata": {
    "collapsed": false,
    "scrolled": true
   },
   "source": [
    "### commented out to prevent replacing existing files\n",
    "# generate files with all comments from the relevant links\n",
    "i = 0\n",
    "for file in filesAll[12:24,1]:\n",
    "    \n",
    "    new_file = file.replace(\".bz2\", \"-db.json\")\n",
    "    new_file = new_file.replace(\"data/raw/\", \"data/\")\n",
    "    \n",
    "    print(new_file)\n",
    "    \n",
    "    with open(new_file,'w') as w:\n",
    "\n",
    "        #progress = 0\n",
    "        start = datetime.datetime.now()\n",
    "\n",
    "        with bz2.open(file, 'rt') as input_:\n",
    "            for line in input_:\n",
    "                progress = progress + 1\n",
    "                link = json.loads(line)[\"id\"]\n",
    "                result = search_strings_RS[i].search(link)\n",
    "                if result != None:\n",
    "                    w.write(line)    \n",
    "    \n",
    "    i = i + 1\n",
    "    print(datetime.datetime.now()-start)"
   ]
  },
  {
   "cell_type": "code",
   "execution_count": 20,
   "metadata": {
    "collapsed": true
   },
   "outputs": [],
   "source": [
    "add_t3 = lambda link: \"t3_\" + link"
   ]
  },
  {
   "cell_type": "code",
   "execution_count": 33,
   "metadata": {
    "collapsed": false
   },
   "outputs": [
    {
     "data": {
      "text/plain": [
       "1109"
      ]
     },
     "execution_count": 33,
     "metadata": {},
     "output_type": "execute_result"
    }
   ],
   "source": [
    "last_for_month[11]-last_for_month[10]"
   ]
  },
  {
   "cell_type": "code",
   "execution_count": null,
   "metadata": {
    "collapsed": true
   },
   "outputs": [],
   "source": [
    "# check if we got all links in RC files\n",
    "for i in range(0,12):\n",
    "    filename = \"data/RS_\"+periods[i]+\"-db.json\"\n",
    "    print(filename)\n",
    "    df = read_json_as_pandas(filename)\n",
    "    df[\"link_id\"] = df[\"id\"].apply(add_t3)\n",
    "    dflist = df[\"link_id\"].tolist()\n",
    "    dfset = set(dflist)\n",
    "    dfsize = len(dfset)\n",
    "    print(dfsize)\n",
    "    if i == 0:\n",
    "        print(last_for_month[i]-71)\n",
    "    else:\n",
    "        print(last_for_month[i]-last_for_month[i-1])"
   ]
  },
  {
   "cell_type": "code",
   "execution_count": 67,
   "metadata": {
    "collapsed": false,
    "scrolled": true
   },
   "outputs": [
    {
     "name": "stdout",
     "output_type": "stream",
     "text": [
      "data/RS_2015-11-db.json\n",
      "745\n",
      "746\n",
      "data/RS_2015-12-db.json\n",
      "561\n",
      "562\n",
      "data/RS_2016-01-db.json\n",
      "695\n",
      "695\n",
      "data/RS_2016-02-db.json\n",
      "787\n",
      "787\n",
      "data/RS_2016-03-db.json\n",
      "821\n",
      "821\n",
      "data/RS_2016-04-db.json\n",
      "797\n",
      "797\n",
      "data/RS_2016-05-db.json\n",
      "834\n",
      "834\n",
      "data/RS_2016-06-db.json\n",
      "868\n",
      "868\n",
      "data/RS_2016-07-db.json\n",
      "969\n",
      "969\n",
      "data/RS_2016-08-db.json\n",
      "1040\n",
      "1040\n",
      "data/RS_2016-09-db.json\n",
      "1051\n",
      "1051\n",
      "data/RS_2016-10-db.json\n",
      "1109\n",
      "1109\n"
     ]
    }
   ],
   "source": [
    "# check if we got all links in RS files\n",
    "for i in range(0,12):\n",
    "    filename = \"data/RS_\"+periods[i]+\"-db.json\"\n",
    "    print(filename)\n",
    "    df = read_json_as_pandas(filename)\n",
    "    df[\"link_id\"] = df[\"id\"].apply(add_t3)\n",
    "    dflist = df[\"link_id\"].tolist()\n",
    "    dfset = set(dflist)\n",
    "    dfsize = len(dfset)\n",
    "    print(dfsize)\n",
    "    if i == 0:\n",
    "        print(last_for_month[i]-71)\n",
    "    else:\n",
    "        print(last_for_month[i]-last_for_month[i-1])"
   ]
  }
 ],
 "metadata": {
  "anaconda-cloud": {},
  "kernelspec": {
   "display_name": "Python [default]",
   "language": "python",
   "name": "python3"
  },
  "language_info": {
   "codemirror_mode": {
    "name": "ipython",
    "version": 3
   },
   "file_extension": ".py",
   "mimetype": "text/x-python",
   "name": "python",
   "nbconvert_exporter": "python",
   "pygments_lexer": "ipython3",
   "version": "3.5.2"
  }
 },
 "nbformat": 4,
 "nbformat_minor": 0
}
